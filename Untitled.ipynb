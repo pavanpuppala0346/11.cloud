{
 "cells": [
  {
   "cell_type": "markdown",
   "metadata": {},
   "source": [
    "# Scenario 3: Move File in Azure Data Factory\n",
    "\n",
    "In this lesson, we are going to implement a scenario where the file should be deleted from the source location **after** it has been successfully copied to the destination. \n",
    "\n",
    "This effectively becomes a **move operation** (copy + delete)."
   ]
  },
  {
   "cell_type": "markdown",
   "metadata": {},
   "source": [
    "## Problem\n",
    "- ADF does **not have a built-in Move activity**.\n",
    "- We need to first copy the file → then delete it → to simulate a move."
   ]
  },
  {
   "cell_type": "markdown",
   "metadata": {},
   "source": [
    "## Steps\n",
    "1. Create a **Copy Activity** to copy the file from source to Data Lake.\n",
    "2. Add a **Delete Activity** after the Copy succeeds.\n",
    "3. Configure Delete activity:\n",
    "   - Dataset = Source file dataset (e.g., `DS_population_raw_gz`).\n",
    "   - Recursive delete (if folder-level deletion is required).\n",
    "   - Optional logging.\n",
    "4. Make Delete activity **dependent** on Copy activity.\n",
    "5. Debug pipeline to validate the file is moved."
   ]
  },
  {
   "cell_type": "code",
   "metadata": {},
   "source": [
    "// ADF Expression (dependency)\n",
    "@activity('Copy Data').status == 'Succeeded'"
   ]
  },
  {
   "cell_type": "markdown",
   "metadata": {},
   "source": [
    "## Example Pipeline Flow\n",
    "- If condition (validation passed)\n",
    "   - Copy Activity (Blob → Data Lake)\n",
    "   - Delete Activity (Blob source file)\n",
    "\n",
    "The **Delete Activity** will only run if the Copy activity succeeds."
   ]
  },
  {
   "cell_type": "markdown",
   "metadata": {},
   "source": [
    "## Demo Verification\n",
    "1. Confirm file exists in **Azure Storage Explorer** before running.\n",
    "2. Run **Debug** in ADF.\n",
    "3. Validate Copy + Delete succeeded.\n",
    "4. Refresh Storage Explorer → file should be deleted.\n",
    "\n",
    "On next pipeline run, if a new file is placed in the source, the same process repeats."
   ]
  },
  {
   "cell_type": "markdown",
   "metadata": {},
   "source": [
    "## Summary\n",
    "- We simulated a **Move operation** in ADF.\n",
    "- Used Copy Activity + Delete Activity.\n",
    "- Ensured cost-effective, clean data ingestion without duplicates."
   ]
  }
 ],
 "metadata": {
  "kernelspec": {
   "display_name": "Python 3",
   "language": "python",
   "name": "python3"
  },
  "language_info": {
   "name": "python",
   "version": "3.9"
  }
 },
 "nbformat": 4,
 "nbformat_minor": 5
}
