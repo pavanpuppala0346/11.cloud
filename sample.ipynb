{
 "cells": [
  {
   "cell_type": "markdown",
   "id": "72ba5891",
   "metadata": {},
   "source": []
  },
  {
   "cell_type": "markdown",
   "id": "3987eced",
   "metadata": {},
   "source": []
  },
  {
   "cell_type": "markdown",
   "id": "d1778ce1",
   "metadata": {},
   "source": []
  },
  {
   "cell_type": "markdown",
   "id": "e3e169b1",
   "metadata": {},
   "source": []
  },
  {
   "cell_type": "markdown",
   "id": "1b7c6abb",
   "metadata": {},
   "source": []
  }
 ],
 "metadata": {
  "kernelspec": {
   "display_name": "Python 3 (ipykernel)",
   "language": "python",
   "name": "python3"
  },
  "language_info": {
   "codemirror_mode": {
    "name": "ipython",
    "version": 3
   },
   "file_extension": ".py",
   "mimetype": "text/x-python",
   "name": "python",
   "nbconvert_exporter": "python",
   "pygments_lexer": "ipython3",
   "version": "3.10.11"
  }
 },
 "nbformat": 4,
 "nbformat_minor": 5
}
