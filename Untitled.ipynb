{
 "cells": [
  {
   "cell_type": "code",
   "execution_count": 1,
   "metadata": {},
   "outputs": [],
   "source": [
    "import argparse"
   ]
  },
  {
   "cell_type": "code",
   "execution_count": 10,
   "metadata": {},
   "outputs": [
    {
     "name": "stdout",
     "output_type": "stream",
     "text": [
      "ArgumentParser(prog='ipykernel_launcher.py', usage=None, description='Do Things', formatter_class=<class 'argparse.HelpFormatter'>, conflict_handler='error', add_help=True)\n",
      "_StoreAction(option_strings=['--csvfile'], dest='csvfile', nargs=None, const=None, default=None, type=None, choices=None, help='csvfile location', metavar=None)\n",
      "_StoreAction(option_strings=['--debug'], dest='debug', nargs=None, const=None, default=None, type=None, choices=None, help='enable debug output', metavar=None)\n"
     ]
    },
    {
     "name": "stderr",
     "output_type": "stream",
     "text": [
      "usage: ipykernel_launcher.py [-h] [--csvfile CSVFILE] [--debug DEBUG]\n",
      "ipykernel_launcher.py: error: unrecognized arguments: -f C:\\Users\\LENOVO\\AppData\\Roaming\\jupyter\\runtime\\kernel-0f573dc8-3e10-4816-8182-3d555ff66741.json\n"
     ]
    },
    {
     "ename": "SystemExit",
     "evalue": "2",
     "output_type": "error",
     "traceback": [
      "An exception has occurred, use %tb to see the full traceback.\n",
      "\u001b[1;31mSystemExit\u001b[0m\u001b[1;31m:\u001b[0m 2\n"
     ]
    },
    {
     "name": "stderr",
     "output_type": "stream",
     "text": [
      "C:\\Users\\LENOVO\\Anaconda3\\lib\\site-packages\\IPython\\core\\interactiveshell.py:2971: UserWarning: To exit: use 'exit', 'quit', or Ctrl-D.\n",
      "  warn(\"To exit: use 'exit', 'quit', or Ctrl-D.\", stacklevel=1)\n"
     ]
    }
   ],
   "source": [
    "# instantiate the argument parser\n",
    "parser = argparse.ArgumentParser(description='Do Things')\n",
    "print(parser)\n",
    "\n",
    "# define arguments\n",
    "print(parser.add_argument('--csvfile', help='csvfile location'))\n",
    "print(parser.add_argument('--debug', help='enable debug output'))\n",
    "\n",
    "# collect arguments\n",
    "args = parser.parse_args()\n",
    "print(args)"
   ]
  },
  {
   "cell_type": "code",
   "execution_count": 21,
   "metadata": {},
   "outputs": [
    {
     "name": "stdout",
     "output_type": "stream",
     "text": [
      "Collecting msal\n",
      "  Downloading msal-1.22.0-py2.py3-none-any.whl (90 kB)\n",
      "Requirement already satisfied: PyJWT[crypto]<3,>=1.0.0 in c:\\users\\lenovo\\anaconda3\\lib\\site-packages (from msal) (1.7.1)\n",
      "Requirement already satisfied: cryptography<43,>=0.6 in c:\\users\\lenovo\\anaconda3\\lib\\site-packages (from msal) (2.8)\n",
      "Requirement already satisfied: requests<3,>=2.0.0 in c:\\users\\lenovo\\anaconda3\\lib\\site-packages (from msal) (2.25.1)\n",
      "Requirement already satisfied: six>=1.4.1 in c:\\users\\lenovo\\anaconda3\\lib\\site-packages (from cryptography<43,>=0.6->msal) (1.13.0)\n",
      "Requirement already satisfied: cffi!=1.11.3,>=1.8 in c:\\users\\lenovo\\anaconda3\\lib\\site-packages (from cryptography<43,>=0.6->msal) (1.11.5)\n",
      "Requirement already satisfied: chardet<5,>=3.0.2 in c:\\users\\lenovo\\anaconda3\\lib\\site-packages (from requests<3,>=2.0.0->msal) (3.0.4)\n",
      "Requirement already satisfied: idna<3,>=2.5 in c:\\users\\lenovo\\anaconda3\\lib\\site-packages (from requests<3,>=2.0.0->msal) (2.6)\n",
      "Requirement already satisfied: certifi>=2017.4.17 in c:\\users\\lenovo\\anaconda3\\lib\\site-packages (from requests<3,>=2.0.0->msal) (2019.11.28)\n",
      "Requirement already satisfied: urllib3<1.27,>=1.21.1 in c:\\users\\lenovo\\anaconda3\\lib\\site-packages (from requests<3,>=2.0.0->msal) (1.26.4)\n",
      "Requirement already satisfied: pycparser in c:\\users\\lenovo\\anaconda3\\lib\\site-packages (from cffi!=1.11.3,>=1.8->cryptography<43,>=0.6->msal) (2.18)\n",
      "Installing collected packages: msal\n",
      "Successfully installed msal-1.22.0\n"
     ]
    },
    {
     "name": "stderr",
     "output_type": "stream",
     "text": [
      "WARNING: Ignoring invalid distribution -tatsmodels (c:\\users\\lenovo\\anaconda3\\lib\\site-packages)\n",
      "WARNING: Ignoring invalid distribution -oogle-auth (c:\\users\\lenovo\\anaconda3\\lib\\site-packages)\n",
      "WARNING: Ignoring invalid distribution -tatsmodels (c:\\users\\lenovo\\anaconda3\\lib\\site-packages)\n",
      "WARNING: Ignoring invalid distribution -oogle-auth (c:\\users\\lenovo\\anaconda3\\lib\\site-packages)\n",
      "WARNING: Ignoring invalid distribution -tatsmodels (c:\\users\\lenovo\\anaconda3\\lib\\site-packages)\n",
      "WARNING: Ignoring invalid distribution -oogle-auth (c:\\users\\lenovo\\anaconda3\\lib\\site-packages)\n",
      "WARNING: Ignoring invalid distribution -tatsmodels (c:\\users\\lenovo\\anaconda3\\lib\\site-packages)\n",
      "WARNING: Ignoring invalid distribution -oogle-auth (c:\\users\\lenovo\\anaconda3\\lib\\site-packages)\n",
      "WARNING: Ignoring invalid distribution -tatsmodels (c:\\users\\lenovo\\anaconda3\\lib\\site-packages)\n",
      "WARNING: Ignoring invalid distribution -oogle-auth (c:\\users\\lenovo\\anaconda3\\lib\\site-packages)\n",
      "WARNING: Ignoring invalid distribution -tatsmodels (c:\\users\\lenovo\\anaconda3\\lib\\site-packages)\n",
      "WARNING: Ignoring invalid distribution -oogle-auth (c:\\users\\lenovo\\anaconda3\\lib\\site-packages)\n"
     ]
    }
   ],
   "source": [
    "!pip install msal"
   ]
  },
  {
   "cell_type": "code",
   "execution_count": 30,
   "metadata": {},
   "outputs": [],
   "source": [
    "import getpass\n",
    "import os\n",
    "import msal\n",
    "import atexit\n",
    "\n",
    "def _get_client_cache():\n",
    "    # find or create cache file for user\n",
    "    user_cache_path = '/tmp/azure_token_cache_'+getpass.getuser()\n",
    "    print(user_cache_path)\n",
    "    \n",
    "    print(os.umask(0o077))  # Set the current numeric umask and return the previous umask.\n",
    "    \n",
    "    # This serialization can be a starting point to implement your own persistence.\n",
    "    # This class does NOT actually persist the cache on disk/db/etc..Depending on your need,\n",
    "    # the following simple recipe for file-based persistence may be sufficient\n",
    "    cache = msal.SerializableTokenCache()\n",
    "    if os.path.exists(\"my_cache.bin\"):\n",
    "        cache.deserialize(open(\"my_cache.bin\", \"r\").read())\n",
    "    atexit.register(lambda:\n",
    "        open(\"my_cache.bin\", \"w\").write(cache.serialize())\n",
    "        # Hint: The following optional line persists only when state changed\n",
    "        if cache.has_state_changed else None\n",
    "        )\n",
    "    return cache\n",
    "\n",
    "\n",
    "def device_code_flow(tenant=None, clientid=None, scope=None):\n",
    "    cache = _get_client_cache()\n",
    "    \n",
    "    #initialize with cache\n",
    "    app = msal.PublicClientApplication(clientid, authority='https://login.microsoftonline.com/'+tenant, to(ken_cache = cache)\n",
    "    auth_result = None\n",
    "    \n",
    "    #check for accounts in cache\n",
    "    accounts = app.get_accounts()\n",
    "                            \n",
    "    if accounts:\n",
    "        auth_result = app.acquire_token_silent   "
   ]
  },
  {
   "cell_type": "code",
   "execution_count": 31,
   "metadata": {},
   "outputs": [],
   "source": []
  },
  {
   "cell_type": "code",
   "execution_count": null,
   "metadata": {},
   "outputs": [],
   "source": []
  }
 ],
 "metadata": {
  "kernelspec": {
   "display_name": "Python 3",
   "language": "python",
   "name": "python3"
  },
  "language_info": {
   "codemirror_mode": {
    "name": "ipython",
    "version": 3
   },
   "file_extension": ".py",
   "mimetype": "text/x-python",
   "name": "python",
   "nbconvert_exporter": "python",
   "pygments_lexer": "ipython3",
   "version": "3.6.5"
  }
 },
 "nbformat": 4,
 "nbformat_minor": 2
}
