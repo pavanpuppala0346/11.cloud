{
 "cells": [
  {
   "cell_type": "markdown",
   "id": "b764138f",
   "metadata": {},
   "source": [
    "# ADF File Validation Pipeline\n",
    "\n",
    "This notebook documents the setup for validating a file using ADF activities like `Get Metadata`, `If Condition`, and `Web Activity`."
   ]
  },
  {
   "cell_type": "markdown",
   "id": "3cb25b1e",
   "metadata": {},
   "source": [
    "## Step 1: Get File Metadata\n",
    "Use the `Get Metadata` activity to extract file-level properties."
   ]
  },
  {
   "cell_type": "code",
   "execution_count": null,
   "id": "43d8895e",
   "metadata": {},
   "outputs": [],
   "source": [
    "\n",
    "# Pseudocode: ADF metadata activity configuration\n",
    "{\n",
    "  \"name\": \"Get File Metadata\",\n",
    "  \"type\": \"GetMetadata\",\n",
    "  \"dataset\": \"InputGzipDataset\",\n",
    "  \"fieldList\": [\n",
    "    \"exists\",\n",
    "    \"size\",\n",
    "    \"columnCount\"\n",
    "  ]\n",
    "}\n"
   ]
  },
  {
   "cell_type": "markdown",
   "id": "2dcf3f01",
   "metadata": {},
   "source": [
    "## Step 2: Conditional Check\n",
    "Use `If Condition` activity to verify if the column count is 13."
   ]
  },
  {
   "cell_type": "code",
   "execution_count": null,
   "id": "506a1ede",
   "metadata": {},
   "outputs": [],
   "source": [
    "\n",
    "# Pseudocode: If Condition expression in ADF\n",
    "{\n",
    "  \"name\": \"If Column Count Matches\",\n",
    "  \"type\": \"IfCondition\",\n",
    "  \"expression\": {\n",
    "    \"value\": \"@equals(activity('Get File Metadata').output.columnCount, 13)\"\n",
    "  },\n",
    "  \"ifTrueActivities\": [\"Copy Data Activity\"],\n",
    "  \"ifFalseActivities\": [\"Send Email Web Activity\"]\n",
    "}\n"
   ]
  },
  {
   "cell_type": "markdown",
   "id": "2b32497d",
   "metadata": {},
   "source": [
    "## Step 3: Copy Activity\n",
    "The copy activity runs only if the condition is met."
   ]
  },
  {
   "cell_type": "code",
   "execution_count": null,
   "id": "1e6a2eea",
   "metadata": {},
   "outputs": [],
   "source": [
    "\n",
    "# Pseudocode: Copy activity under IfCondition -> True\n",
    "{\n",
    "  \"name\": \"Copy Data to DataLake\",\n",
    "  \"type\": \"Copy\",\n",
    "  \"inputs\": [\"InputGzipDataset\"],\n",
    "  \"outputs\": [\"SinkDataset\"]\n",
    "}\n"
   ]
  },
  {
   "cell_type": "markdown",
   "id": "21980f8b",
   "metadata": {},
   "source": [
    "## Step 4: Web Activity for Notification\n",
    "Sends an email or triggers Logic App if file is invalid."
   ]
  },
  {
   "cell_type": "code",
   "execution_count": null,
   "id": "735e765a",
   "metadata": {},
   "outputs": [],
   "source": [
    "\n",
    "# Pseudocode: Web Activity on failure\n",
    "{\n",
    "  \"name\": \"Send Email\",\n",
    "  \"type\": \"WebActivity\",\n",
    "  \"method\": \"POST\",\n",
    "  \"url\": \"https://dummy-url.com/notify\",\n",
    "  \"body\": {\n",
    "    \"message\": \"File validation failed. Column count mismatch.\"\n",
    "  }\n",
    "}\n"
   ]
  },
  {
   "cell_type": "markdown",
   "id": "9b72b336",
   "metadata": {},
   "source": [
    "## Final Step: Publish Pipeline\n",
    "Ensure to validate and publish your pipeline after making changes."
   ]
  }
 ],
 "metadata": {},
 "nbformat": 4,
 "nbformat_minor": 5
}