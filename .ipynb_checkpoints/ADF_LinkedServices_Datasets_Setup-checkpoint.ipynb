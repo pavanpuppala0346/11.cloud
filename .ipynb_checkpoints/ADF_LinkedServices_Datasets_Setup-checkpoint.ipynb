{
 "cells": [
  {
   "cell_type": "markdown",
   "id": "ec1421f3",
   "metadata": {},
   "source": [
    "# Azure Data Factory: Linked Services, Datasets, and Pipeline Copy Activity"
   ]
  },
  {
   "cell_type": "markdown",
   "id": "529482f1",
   "metadata": {},
   "source": [
    "\n",
    "**Date:** 2025-07-27\n",
    "\n",
    "In this notebook, we will:\n",
    "\n",
    "1. Create Linked Services for:\n",
    "   - Azure Blob Storage (Source)\n",
    "   - Azure Data Lake Storage Gen2 (Sink)\n",
    "\n",
    "2. Create corresponding Datasets for:\n",
    "   - Source TSV.GZ file from Azure Blob\n",
    "   - Sink TSV file in Azure Data Lake\n",
    "\n",
    "3. Preview and validate datasets\n",
    "\n",
    "4. Discuss Publishing changes in Azure Data Factory before proceeding to pipeline creation.\n"
   ]
  },
  {
   "cell_type": "markdown",
   "id": "eb20f9ef",
   "metadata": {},
   "source": []
  },
  {
   "cell_type": "markdown",
   "id": "5773a317",
   "metadata": {},
   "source": []
  },
  {
   "cell_type": "markdown",
   "id": "1037b653",
   "metadata": {},
   "source": []
  },
  {
   "cell_type": "markdown",
   "id": "208c3e02",
   "metadata": {},
   "source": []
  },
  {
   "cell_type": "markdown",
   "id": "aa990cab",
   "metadata": {},
   "source": []
  },
  {
   "cell_type": "markdown",
   "id": "c5f91ca8",
   "metadata": {},
   "source": [
    "#### Step 3: Validate and Publish\n",
    "##### Validate Objects\n",
    "Click on **Validate All** to check for issues in Linked Services or Datasets.\n",
    "\n",
    "##### Publish Changes\n",
    "Click on **Publish All** to save changes to the Data Factory.\n",
    "Until you publish, your datasets and pipelines exist only temporarily in the UI.\n"
   ]
  }
 ],
 "metadata": {
  "kernelspec": {
   "display_name": "Python 3 (ipykernel)",
   "language": "python",
   "name": "python3"
  },
  "language_info": {
   "codemirror_mode": {
    "name": "ipython",
    "version": 3
   },
   "file_extension": ".py",
   "mimetype": "text/x-python",
   "name": "python",
   "nbconvert_exporter": "python",
   "pygments_lexer": "ipython3",
   "version": "3.11.0"
  }
 },
 "nbformat": 4,
 "nbformat_minor": 5
}
