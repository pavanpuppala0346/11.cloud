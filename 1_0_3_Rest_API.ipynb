{
 "cells": [
  {
   "cell_type": "markdown",
   "id": "d0810cce-939d-4769-9d37-69ff2a87b80f",
   "metadata": {},
   "source": [
    "#### Introduction : \n",
    "\n",
    "Welcome to the API Cookbook for integrating data exchange between the Tenant's Environment and VMSnext. This guide is designed to streamline the onboarding process, provide a comprehensive overview of the API's capabilities, and other offer practical examples tailored to the specific needs of the tenant \n",
    "\n",
    "#### purpose of the API. \n",
    "\n",
    "The API enables the tenant to securely \n",
    "- retrieve data from the VMSnext database for real-time decision-making and reporting.\n",
    "- store and update the data within the VMSnext database, ensuring consistency and accuracy across both systems. \n",
    "\n",
    "By using this API, the tenant can enhance its operational efficiency, reduce manual intervention, and maintain data integrity in all interactions with VMSnext."
   ]
  },
  {
   "cell_type": "markdown",
   "id": "97c831f6-e551-44bf-9936-84adad974aa3",
   "metadata": {},
   "source": [
    "### 1.Get Access Token for Service Principle(Identity) using Azure REST API whil working with Azure Resource API's\n",
    "- acessToken\n",
    "- Service Principle"
   ]
  },
  {
   "cell_type": "markdown",
   "id": "c0454c4f-d2c2-45e8-b3f3-c5d0284fd646",
   "metadata": {},
   "source": [
    "- go to azure portal --> search for **app registrations**\n",
    "- i want to create a SP(id and password) wisetailsp --> this SP have permissions to access it in ADF\n",
    "- go to **certificates and secrets** --> **client secrets**  --> + New client secret\n",
    "    - description: testing\n",
    "    - expires : 180 days\n",
    "    - Add button\n",
    "- now give SP access on synapse\n",
    "- go to synapse --> Navigate **Access Control IAM** --> check access --> wisetailsp\n",
    "- now add role (+Add) --> Add role assignment --> privileged admin roles  --> select contributor --> next --> select members  --> wisetailsp --> review+assign\n",
    "- To use any SP one has to generate the access token  --> "
   ]
  },
  {
   "cell_type": "code",
   "execution_count": null,
   "id": "3c82a8f2-f371-4d9b-813d-ec7329b660bb",
   "metadata": {},
   "outputs": [],
   "source": []
  }
 ],
 "metadata": {
  "kernelspec": {
   "display_name": "Python 3 (ipykernel)",
   "language": "python",
   "name": "python3"
  },
  "language_info": {
   "codemirror_mode": {
    "name": "ipython",
    "version": 3
   },
   "file_extension": ".py",
   "mimetype": "text/x-python",
   "name": "python",
   "nbconvert_exporter": "python",
   "pygments_lexer": "ipython3",
   "version": "3.10.11"
  }
 },
 "nbformat": 4,
 "nbformat_minor": 5
}
