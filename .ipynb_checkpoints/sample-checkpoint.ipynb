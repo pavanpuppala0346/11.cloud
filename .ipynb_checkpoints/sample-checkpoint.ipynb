{
 "cells": [
  {
   "cell_type": "markdown",
   "metadata": {},
   "source": [
    "# 🔹 Azure Storage Accounts\n",
    "\n",
    "An **Azure Storage Account** is a cloud storage solution that provides a unique namespace in Azure to store and access data.\n",
    "- Globally unique name (like `mystorageaccount.blob.core.windows.net`).\n",
    "- Stores **different types of data**: blobs, files, queues, tables, disks.\n",
    "- **Secure, highly available, durable, and scalable**."
   ]
  },
  {
   "cell_type": "markdown",
   "metadata": {},
   "source": [
    "## 🔹 Types of Storage\n",
    "\n",
    "### 1. **Blob Storage**\n",
    "- Stores unstructured data (text, images, videos, backups).\n",
    "- Types of blobs:\n",
    "  - **Block Blob** → Best for text/binary (documents, media).\n",
    "  - **Append Blob** → Best for logs (data added to the end).\n",
    "  - **Page Blob** → Best for virtual hard disks (Azure VM disks).\n",
    "- Example: Store raw COVID data files, images, reports.\n",
    "\n",
    "### 2. **File Storage (Azure Files)**\n",
    "- Fully managed **file shares** in the cloud.\n",
    "- Accessible via **SMB** or **NFS** protocols.\n",
    "- Example: Shared folder for team documents.\n",
    "\n",
    "### 3. **Queue Storage**\n",
    "- Messaging store for reliable communication.\n",
    "- FIFO (First In, First Out).\n",
    "- Example: Web app pushes messages, background service processes them.\n",
    "\n",
    "### 4. **Table Storage**\n",
    "- NoSQL key-value store for structured data.\n",
    "- Highly scalable.\n",
    "- Example: IoT device metadata or user profiles.\n",
    "\n",
    "### 5. **Disk Storage**\n",
    "- Persistent block-level storage for Azure VMs.\n",
    "- Types:\n",
    "  - HDD (cheap, slower).\n",
    "  - SSD (Standard/Premium) → High performance.\n",
    "- Example: VM OS disk or DB storage."
   ]
  },
  {
   "cell_type": "markdown",
   "metadata": {},
   "source": [
    "## 🔹 Performance Tiers\n",
    "- **Standard** → HDD, cheaper, good for infrequent access.\n",
    "- **Premium** → SSD, low latency, high throughput."
   ]
  },
  {
   "cell_type": "markdown",
   "metadata": {},
   "source": [
    "## 🔹 Redundancy Options (Replication)\n",
    "1. **LRS (Locally Redundant Storage)** → 3 copies in one region.\n",
    "2. **ZRS (Zone Redundant Storage)** → Copies across 3 availability zones.\n",
    "3. **GRS (Geo-Redundant Storage)** → Secondary region for disaster recovery.\n",
    "4. **RA-GRS (Read-Access Geo-Redundant)** → Same as GRS + read access to secondary."
   ]
  },
  {
   "cell_type": "markdown",
   "metadata": {},
   "source": [
    "## 🔹 When to Use Each\n",
    "- **Blob Storage** → Data lakes, backups, media files.\n",
    "- **File Storage** → Shared drives for apps/VMs.\n",
    "- **Queue Storage** → Message passing between systems.\n",
    "- **Table Storage** → Fast access to NoSQL structured data.\n",
    "- **Disk Storage** → Persistent VM & DB storage.\n",
    "\n",
    "✅ In **ADF projects** like the COVID-19 pipeline:\n",
    "- **Population data** → Blob Storage.\n",
    "- **Raw + transformed data** → Data Lake (on Blob).\n",
    "- **Analytics/reporting** → SQL Database."
   ]
  }
 ],
 "metadata": {
  "kernelspec": {
   "display_name": "Python 3",
   "language": "python",
   "name": "python3"
  },
  "language_info": {
   "name": "python",
   "version": "3.10"
  }
 },
 "nbformat": 4,
 "nbformat_minor": 5
}
